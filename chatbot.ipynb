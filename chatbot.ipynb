{
 "cells": [
  {
   "cell_type": "code",
   "execution_count": 4,
   "metadata": {},
   "outputs": [],
   "source": [
    "# 連線Cloud sql\n",
    "import os\n",
    "from google.cloud.sql.connector import Connector, IPTypes\n",
    "import pg8000\n",
    "import sqlalchemy\n",
    "\n",
    "\n",
    "def connect_with_connector() -> sqlalchemy.engine.base.Engine:\n",
    "    \"\"\"\n",
    "    Initializes a connection pool for a Cloud SQL instance of Postgres.\n",
    "\n",
    "    Uses the Cloud SQL Python Connector package.\n",
    "    \"\"\"\n",
    "    # Note: Saving credentials in environment variables is convenient, but not\n",
    "    # secure - consider a more secure solution such as\n",
    "    # Cloud Secret Manager (https://cloud.google.com/secret-manager) to help\n",
    "    # keep secrets safe.\n",
    "\n",
    "    instance_connection_name = \"law-chatbot-******:us-central1:law-db\"\n",
    "\n",
    "    db_user = \"USER\"\n",
    "    db_pass = \"PASSWORD\"\n",
    "    db_name = \"test\"\n",
    "\n",
    "    ip_type = IPTypes.PRIVATE if os.environ.get(\"PRIVATE_IP\") else IPTypes.PUBLIC\n",
    "\n",
    "    # initialize Cloud SQL Python Connector object\n",
    "    connector = Connector()\n",
    "\n",
    "    def getconn() -> pg8000.dbapi.Connection:\n",
    "        conn: pg8000.dbapi.Connection = connector.connect(\n",
    "            instance_connection_name,\n",
    "            \"pg8000\",\n",
    "            user=db_user,\n",
    "            password=db_pass,\n",
    "            db=db_name,\n",
    "            ip_type=ip_type,\n",
    "        )\n",
    "        return conn\n",
    "\n",
    "    # The Cloud SQL Python Connector can be used with SQLAlchemy\n",
    "    # using the 'creator' argument to 'create_engine'\n",
    "    pool = sqlalchemy.create_engine(\n",
    "        \"postgresql+pg8000://\",\n",
    "        creator=getconn,\n",
    "        # ...\n",
    "    )\n",
    "    return pool\n",
    "\n",
    "pool = connect_with_connector()\n"
   ]
  },
  {
   "cell_type": "code",
   "execution_count": 24,
   "metadata": {},
   "outputs": [
    {
     "name": "stdout",
     "output_type": "stream",
     "text": [
      "(4, 'hotdog', 25.0, 'junk food', 7.5)\n",
      "(5, 'apple', 10.0, 'fruit', 9.1)\n",
      "(6, 'ice cream', 15.0, 'junk food', 8.3)\n"
     ]
    }
   ],
   "source": [
    "#寫資料進sql\n",
    "# connect to connection pool\n",
    "with pool.connect() as db_conn:\n",
    "  # create ratings table in our sandwiches database\n",
    "  db_conn.execute(\n",
    "    sqlalchemy.text(\n",
    "      \"CREATE TABLE IF NOT EXISTS ratings \"\n",
    "      \"( id SERIAL NOT NULL, item VARCHAR(255) NOT NULL, \"\n",
    "      \"price FLOAT NOT NULL, category VARCHAR(255) NOT NULL,\"\n",
    "      \"rating FLOAT NOT NULL, \"\n",
    "      \"PRIMARY KEY (id));\"\n",
    "    )\n",
    "  )\n",
    "\n",
    "  # commit transaction (SQLAlchemy v2.X.X is commit as you go)\n",
    "  db_conn.commit()\n",
    "\n",
    "  # insert data into our ratings table\n",
    "  insert_stmt = sqlalchemy.text(\n",
    "      \"INSERT INTO ratings (item, price, category, rating) VALUES (:item, :price, :category, :rating)\",\n",
    "  )\n",
    "\n",
    "  # insert entries into table\n",
    "  db_conn.execute(insert_stmt, parameters={\"item\": \"hotdog\", \"price\": 25.0, \"category\": \"junk food\" ,\"rating\": 7.5})\n",
    "  db_conn.execute(insert_stmt, parameters={\"item\": \"apple\", \"price\": 10.0,\"category\": \"fruit\" , \"rating\": 9.1})\n",
    "  db_conn.execute(insert_stmt, parameters={\"item\": \"ice cream\", \"price\": 15.0,\"category\": \"junk food\" , \"rating\": 8.3})\n",
    "\n",
    "  # commit transactions\n",
    "  db_conn.commit()\n",
    "\n",
    "  # query and fetch ratings table\n",
    "  results = db_conn.execute(sqlalchemy.text(\"SELECT * FROM ratings\")).fetchall()\n",
    "\n",
    "  # show results\n",
    "  for row in results:\n",
    "    print(row)"
   ]
  },
  {
   "cell_type": "code",
   "execution_count": 23,
   "metadata": {},
   "outputs": [],
   "source": [
    "with pool.connect() as db_conn:\n",
    "    results = db_conn.execute(sqlalchemy.text(\"DELETE FROM ratings\"))\n",
    "    db_conn.commit()"
   ]
  },
  {
   "cell_type": "code",
   "execution_count": 25,
   "metadata": {},
   "outputs": [
    {
     "data": {
      "text/plain": [
       "[(4, 'hotdog', 25.0, 'junk food', 7.5),\n",
       " (5, 'apple', 10.0, 'fruit', 9.1),\n",
       " (6, 'ice cream', 15.0, 'junk food', 8.3)]"
      ]
     },
     "execution_count": 25,
     "metadata": {},
     "output_type": "execute_result"
    }
   ],
   "source": [
    "results"
   ]
  },
  {
   "cell_type": "code",
   "execution_count": 26,
   "metadata": {},
   "outputs": [
    {
     "name": "stdout",
     "output_type": "stream",
     "text": [
      "4,hotdog,25.0,junk food,7.5\n",
      "5,apple,10.0,fruit,9.1\n",
      "6,ice cream,15.0,junk food,8.3\n",
      "\n"
     ]
    }
   ],
   "source": [
    "txt = \"\"\n",
    "for i in results:\n",
    "    txt+= \",\".join(list(map(lambda x: str(x), i)))+\"\\n\"\n",
    "print(txt)"
   ]
  },
  {
   "cell_type": "code",
   "execution_count": 32,
   "metadata": {},
   "outputs": [
    {
     "name": "stderr",
     "output_type": "stream",
     "text": [
      "I0000 00:00:1722937047.008540 6498714 check_gcp_environment_no_op.cc:29] ALTS: Platforms other than Linux and Windows are not supported\n"
     ]
    },
    {
     "name": "stdout",
     "output_type": "stream",
     "text": [
      "## 符合使用者需求的表格結果：\n",
      "\n",
      "| 食物 | 類別 |\n",
      "|---|---|\n",
      "| hotdog | junk food |\n",
      "| apple | fruit |\n",
      "| ice cream | junk food |\n",
      "\n",
      "## 說明：\n",
      "\n",
      "使用者要求查看每個食物的類別。 資料中包含食物名稱、價格、類別和評分等信息，但使用者只關注食物和類別。 因此，我們只提取了食物名稱和類別列，並將其整理成表格形式，方便使用者查看。 \n",
      "\n"
     ]
    }
   ],
   "source": [
    "#連線gemini\n",
    "import vertexai\n",
    "from vertexai.generative_models import GenerativeModel\n",
    "\n",
    "# TODO(developer): Update and un-comment below line\n",
    "# project_id = \"PROJECT_ID\"\n",
    "\n",
    "vertexai.init(project=\"law-chatbot-431613\", location=\"us-central1\")\n",
    "model = GenerativeModel(\"gemini-1.5-flash-001\")\n",
    "\n",
    "req = \"我想要看每個食物的類別為何\"\n",
    "response = model.generate_content(\n",
    "   [\"資料\\n\",txt,'\\n', '使用者需求\\n',req,\"\\n\\n\",\"請閱讀資料後，根據使用者需求，以表格方式過濾條件回傳符合條件的結果，並說明為何回傳這些結果\"]\n",
    ")\n",
    "\n",
    "print(response.text)"
   ]
  }
 ],
 "metadata": {
  "kernelspec": {
   "display_name": "law-chatbot",
   "language": "python",
   "name": "python3"
  },
  "language_info": {
   "codemirror_mode": {
    "name": "ipython",
    "version": 3
   },
   "file_extension": ".py",
   "mimetype": "text/x-python",
   "name": "python",
   "nbconvert_exporter": "python",
   "pygments_lexer": "ipython3",
   "version": "3.9.18"
  }
 },
 "nbformat": 4,
 "nbformat_minor": 2
}
